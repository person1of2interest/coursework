{
 "cells": [
  {
   "cell_type": "code",
   "execution_count": 1,
   "id": "9b9cd0f1",
   "metadata": {},
   "outputs": [],
   "source": [
    "import numpy as np\n",
    "import pandas as pd\n",
    "import math"
   ]
  },
  {
   "cell_type": "code",
   "execution_count": 2,
   "id": "722b8e3c",
   "metadata": {},
   "outputs": [],
   "source": [
    "#reading the .csv file as a dataframe (df)\n",
    "data=pd.read_csv('zoo.data')"
   ]
  },
  {
   "cell_type": "code",
   "execution_count": 3,
   "id": "8c0f6f58",
   "metadata": {
    "scrolled": true
   },
   "outputs": [
    {
     "data": {
      "text/html": [
       "<div>\n",
       "<style scoped>\n",
       "    .dataframe tbody tr th:only-of-type {\n",
       "        vertical-align: middle;\n",
       "    }\n",
       "\n",
       "    .dataframe tbody tr th {\n",
       "        vertical-align: top;\n",
       "    }\n",
       "\n",
       "    .dataframe thead th {\n",
       "        text-align: right;\n",
       "    }\n",
       "</style>\n",
       "<table border=\"1\" class=\"dataframe\">\n",
       "  <thead>\n",
       "    <tr style=\"text-align: right;\">\n",
       "      <th></th>\n",
       "      <th>animal_name</th>\n",
       "      <th>hair(b)</th>\n",
       "      <th>feathers(b)</th>\n",
       "      <th>eggs(b)</th>\n",
       "      <th>milk(b)</th>\n",
       "      <th>airborne(b)</th>\n",
       "      <th>aquatic(b)</th>\n",
       "      <th>predator(b)</th>\n",
       "      <th>toothed(b)</th>\n",
       "      <th>backbone(b)</th>\n",
       "      <th>breathes(b)</th>\n",
       "      <th>venomous(b)</th>\n",
       "      <th>fins(b)</th>\n",
       "      <th>legs(n)</th>\n",
       "      <th>tail(b)</th>\n",
       "      <th>domestic(b)</th>\n",
       "      <th>catsize(b)</th>\n",
       "      <th>type(n)</th>\n",
       "    </tr>\n",
       "  </thead>\n",
       "  <tbody>\n",
       "    <tr>\n",
       "      <th>0</th>\n",
       "      <td>aardvark</td>\n",
       "      <td>1</td>\n",
       "      <td>0</td>\n",
       "      <td>0</td>\n",
       "      <td>1</td>\n",
       "      <td>0</td>\n",
       "      <td>0</td>\n",
       "      <td>1</td>\n",
       "      <td>1</td>\n",
       "      <td>1</td>\n",
       "      <td>1</td>\n",
       "      <td>0</td>\n",
       "      <td>0</td>\n",
       "      <td>4</td>\n",
       "      <td>0</td>\n",
       "      <td>0</td>\n",
       "      <td>1</td>\n",
       "      <td>1</td>\n",
       "    </tr>\n",
       "    <tr>\n",
       "      <th>1</th>\n",
       "      <td>antelope</td>\n",
       "      <td>1</td>\n",
       "      <td>0</td>\n",
       "      <td>0</td>\n",
       "      <td>1</td>\n",
       "      <td>0</td>\n",
       "      <td>0</td>\n",
       "      <td>0</td>\n",
       "      <td>1</td>\n",
       "      <td>1</td>\n",
       "      <td>1</td>\n",
       "      <td>0</td>\n",
       "      <td>0</td>\n",
       "      <td>4</td>\n",
       "      <td>1</td>\n",
       "      <td>0</td>\n",
       "      <td>1</td>\n",
       "      <td>1</td>\n",
       "    </tr>\n",
       "    <tr>\n",
       "      <th>2</th>\n",
       "      <td>bass</td>\n",
       "      <td>0</td>\n",
       "      <td>0</td>\n",
       "      <td>1</td>\n",
       "      <td>0</td>\n",
       "      <td>0</td>\n",
       "      <td>1</td>\n",
       "      <td>1</td>\n",
       "      <td>1</td>\n",
       "      <td>1</td>\n",
       "      <td>0</td>\n",
       "      <td>0</td>\n",
       "      <td>1</td>\n",
       "      <td>0</td>\n",
       "      <td>1</td>\n",
       "      <td>0</td>\n",
       "      <td>0</td>\n",
       "      <td>4</td>\n",
       "    </tr>\n",
       "    <tr>\n",
       "      <th>3</th>\n",
       "      <td>bear</td>\n",
       "      <td>1</td>\n",
       "      <td>0</td>\n",
       "      <td>0</td>\n",
       "      <td>1</td>\n",
       "      <td>0</td>\n",
       "      <td>0</td>\n",
       "      <td>1</td>\n",
       "      <td>1</td>\n",
       "      <td>1</td>\n",
       "      <td>1</td>\n",
       "      <td>0</td>\n",
       "      <td>0</td>\n",
       "      <td>4</td>\n",
       "      <td>0</td>\n",
       "      <td>0</td>\n",
       "      <td>1</td>\n",
       "      <td>1</td>\n",
       "    </tr>\n",
       "    <tr>\n",
       "      <th>4</th>\n",
       "      <td>boar</td>\n",
       "      <td>1</td>\n",
       "      <td>0</td>\n",
       "      <td>0</td>\n",
       "      <td>1</td>\n",
       "      <td>0</td>\n",
       "      <td>0</td>\n",
       "      <td>1</td>\n",
       "      <td>1</td>\n",
       "      <td>1</td>\n",
       "      <td>1</td>\n",
       "      <td>0</td>\n",
       "      <td>0</td>\n",
       "      <td>4</td>\n",
       "      <td>1</td>\n",
       "      <td>0</td>\n",
       "      <td>1</td>\n",
       "      <td>1</td>\n",
       "    </tr>\n",
       "    <tr>\n",
       "      <th>5</th>\n",
       "      <td>buffalo</td>\n",
       "      <td>1</td>\n",
       "      <td>0</td>\n",
       "      <td>0</td>\n",
       "      <td>1</td>\n",
       "      <td>0</td>\n",
       "      <td>0</td>\n",
       "      <td>0</td>\n",
       "      <td>1</td>\n",
       "      <td>1</td>\n",
       "      <td>1</td>\n",
       "      <td>0</td>\n",
       "      <td>0</td>\n",
       "      <td>4</td>\n",
       "      <td>1</td>\n",
       "      <td>0</td>\n",
       "      <td>1</td>\n",
       "      <td>1</td>\n",
       "    </tr>\n",
       "    <tr>\n",
       "      <th>6</th>\n",
       "      <td>calf</td>\n",
       "      <td>1</td>\n",
       "      <td>0</td>\n",
       "      <td>0</td>\n",
       "      <td>1</td>\n",
       "      <td>0</td>\n",
       "      <td>0</td>\n",
       "      <td>0</td>\n",
       "      <td>1</td>\n",
       "      <td>1</td>\n",
       "      <td>1</td>\n",
       "      <td>0</td>\n",
       "      <td>0</td>\n",
       "      <td>4</td>\n",
       "      <td>1</td>\n",
       "      <td>1</td>\n",
       "      <td>1</td>\n",
       "      <td>1</td>\n",
       "    </tr>\n",
       "    <tr>\n",
       "      <th>7</th>\n",
       "      <td>carp</td>\n",
       "      <td>0</td>\n",
       "      <td>0</td>\n",
       "      <td>1</td>\n",
       "      <td>0</td>\n",
       "      <td>0</td>\n",
       "      <td>1</td>\n",
       "      <td>0</td>\n",
       "      <td>1</td>\n",
       "      <td>1</td>\n",
       "      <td>0</td>\n",
       "      <td>0</td>\n",
       "      <td>1</td>\n",
       "      <td>0</td>\n",
       "      <td>1</td>\n",
       "      <td>1</td>\n",
       "      <td>0</td>\n",
       "      <td>4</td>\n",
       "    </tr>\n",
       "    <tr>\n",
       "      <th>8</th>\n",
       "      <td>catfish</td>\n",
       "      <td>0</td>\n",
       "      <td>0</td>\n",
       "      <td>1</td>\n",
       "      <td>0</td>\n",
       "      <td>0</td>\n",
       "      <td>1</td>\n",
       "      <td>1</td>\n",
       "      <td>1</td>\n",
       "      <td>1</td>\n",
       "      <td>0</td>\n",
       "      <td>0</td>\n",
       "      <td>1</td>\n",
       "      <td>0</td>\n",
       "      <td>1</td>\n",
       "      <td>0</td>\n",
       "      <td>0</td>\n",
       "      <td>4</td>\n",
       "    </tr>\n",
       "    <tr>\n",
       "      <th>9</th>\n",
       "      <td>cavy</td>\n",
       "      <td>1</td>\n",
       "      <td>0</td>\n",
       "      <td>0</td>\n",
       "      <td>1</td>\n",
       "      <td>0</td>\n",
       "      <td>0</td>\n",
       "      <td>0</td>\n",
       "      <td>1</td>\n",
       "      <td>1</td>\n",
       "      <td>1</td>\n",
       "      <td>0</td>\n",
       "      <td>0</td>\n",
       "      <td>4</td>\n",
       "      <td>0</td>\n",
       "      <td>1</td>\n",
       "      <td>0</td>\n",
       "      <td>1</td>\n",
       "    </tr>\n",
       "  </tbody>\n",
       "</table>\n",
       "</div>"
      ],
      "text/plain": [
       "  animal_name  hair(b)  feathers(b)  eggs(b)  milk(b)  airborne(b)  \\\n",
       "0    aardvark        1            0        0        1            0   \n",
       "1    antelope        1            0        0        1            0   \n",
       "2        bass        0            0        1        0            0   \n",
       "3        bear        1            0        0        1            0   \n",
       "4        boar        1            0        0        1            0   \n",
       "5     buffalo        1            0        0        1            0   \n",
       "6        calf        1            0        0        1            0   \n",
       "7        carp        0            0        1        0            0   \n",
       "8     catfish        0            0        1        0            0   \n",
       "9        cavy        1            0        0        1            0   \n",
       "\n",
       "   aquatic(b)  predator(b)  toothed(b)  backbone(b)  breathes(b)  venomous(b)  \\\n",
       "0           0            1           1            1            1            0   \n",
       "1           0            0           1            1            1            0   \n",
       "2           1            1           1            1            0            0   \n",
       "3           0            1           1            1            1            0   \n",
       "4           0            1           1            1            1            0   \n",
       "5           0            0           1            1            1            0   \n",
       "6           0            0           1            1            1            0   \n",
       "7           1            0           1            1            0            0   \n",
       "8           1            1           1            1            0            0   \n",
       "9           0            0           1            1            1            0   \n",
       "\n",
       "   fins(b)  legs(n)  tail(b)  domestic(b)  catsize(b)  type(n)  \n",
       "0        0        4        0            0           1        1  \n",
       "1        0        4        1            0           1        1  \n",
       "2        1        0        1            0           0        4  \n",
       "3        0        4        0            0           1        1  \n",
       "4        0        4        1            0           1        1  \n",
       "5        0        4        1            0           1        1  \n",
       "6        0        4        1            1           1        1  \n",
       "7        1        0        1            1           0        4  \n",
       "8        1        0        1            0           0        4  \n",
       "9        0        4        0            1           0        1  "
      ]
     },
     "execution_count": 3,
     "metadata": {},
     "output_type": "execute_result"
    }
   ],
   "source": [
    "#outputing first 10 lines of df\n",
    "data.head(10)"
   ]
  },
  {
   "cell_type": "code",
   "execution_count": 38,
   "id": "8742deaf",
   "metadata": {},
   "outputs": [
    {
     "data": {
      "image/png": "[encoded data removed]",
      "text/plain": [
       "<Figure size 432x288 with 1 Axes>"
      ]
     },
     "metadata": {
      "needs_background": "light"
     },
     "output_type": "display_data"
    }
   ],
   "source": [
    "#building a bar chart of the dependence of the presence of heart disease on age\n",
    "has_milk=[]\n",
    "hsnt_milk=[]\n",
    "import matplotlib.pyplot as plt\n",
    "m=len(data['animal_name'])\n",
    "tmax=data['type(n)'].max()\n",
    "lmax=data['legs(n)'].max()\n",
    "for i in range(m):\n",
    "    if data['milk(b)'][i]:\n",
    "        has_milk.append([(data['type(n)'][i])/tmax, (data['legs(n)'][i])/lmax])\n",
    "    else: hsnt_milk.append([(data['type(n)'][i])/tmax, (data['legs(n)'][i])/lmax])\n",
    "has_milk=np.array(has_milk)\n",
    "hsnt_milk=np.array(hsnt_milk)\n",
    "plt.plot(has_milk[:, 0], has_milk[:, 1], 'go', hsnt_milk[:, 0], hsnt_milk[:, 1], 'bx')\n",
    "#In this graph, those who have milk correspond to green circles, \n",
    "#and those who do not have it correspond to a blue crosses\n",
    "plt.xlabel('type')\n",
    "plt.ylabel('number of legs')\n",
    "plt.show()"
   ]
  },
  {
   "cell_type": "markdown",
   "id": "e8c21cb5",
   "metadata": {},
   "source": [
    "### h(x)=g(a+b*x1+c*x2), where g(z)=1/(1+e^(-z))"
   ]
  },
  {
   "cell_type": "code",
   "execution_count": 39,
   "id": "6ca0c15a",
   "metadata": {},
   "outputs": [],
   "source": [
    "def h(X, theta):\n",
    "    lst=[]\n",
    "    for j in range(len(X)): \n",
    "        lst.append(1/(1+math.exp(-np.dot(X[j], np.transpose(theta)))))\n",
    "    return lst"
   ]
  },
  {
   "cell_type": "code",
   "execution_count": 50,
   "id": "f306c5c4",
   "metadata": {},
   "outputs": [],
   "source": [
    "def graddesc(X, Y, m, alpha, theta):\n",
    "    \n",
    "    a=theta[0]\n",
    "    b=theta[1]\n",
    "    c=theta[2]\n",
    "    \n",
    "    suma_list = (h(X, theta) - Y)*X[:, 0]\n",
    "    suma = np.sum(suma_list)\n",
    "    sumb_list = (h(X, theta) - Y)*X[:, 1]\n",
    "    sumb = np.sum(sumb_list)\n",
    "    sumc_list = (h(X, theta) - Y)*X[:, 2]\n",
    "    sumc = np.sum(sumc_list)\n",
    "    \n",
    "    if (abs(alpha*suma)>0.005 or abs(alpha*sumb)>0.005) or abs(alpha*sumc)>0.005:\n",
    "        a -= alpha*suma\n",
    "        b -= alpha*sumb\n",
    "        c -= alpha*sumc\n",
    "        return graddesc(X, Y, m, alpha, [a, b, c])\n",
    "    \n",
    "    else:\n",
    "        return [a, b, c]"
   ]
  },
  {
   "cell_type": "code",
   "execution_count": 41,
   "id": "3e171125",
   "metadata": {},
   "outputs": [
    {
     "data": {
      "text/plain": [
       "array([100, 100, 200])"
      ]
     },
     "execution_count": 41,
     "metadata": {},
     "output_type": "execute_result"
    }
   ],
   "source": [
    "theta = np.asarray([100, 100, 200])\n",
    "theta"
   ]
  },
  {
   "cell_type": "code",
   "execution_count": 42,
   "id": "3405cba1",
   "metadata": {},
   "outputs": [
    {
     "data": {
      "text/plain": [
       "array([[1.        , 0.28571429, 0.25      ],\n",
       "       [1.        , 1.        , 1.        ],\n",
       "       [1.        , 0.57142857, 0.        ],\n",
       "       [1.        , 0.42857143, 0.        ],\n",
       "       [1.        , 1.        , 0.        ],\n",
       "       [1.        , 0.28571429, 0.25      ],\n",
       "       [1.        , 0.28571429, 0.25      ]])"
      ]
     },
     "execution_count": 42,
     "metadata": {},
     "output_type": "execute_result"
    }
   ],
   "source": [
    "X=np.hstack((np.reshape(np.ones(m), (m,1)), np.vstack((has_milk, hsnt_milk))))\n",
    "X[78:85]"
   ]
  },
  {
   "cell_type": "code",
   "execution_count": 43,
   "id": "49f722d0",
   "metadata": {
    "scrolled": true
   },
   "outputs": [
    {
     "data": {
      "text/plain": [
       "array([[1, 2, 3],\n",
       "       [1, 4, 5],\n",
       "       [1, 6, 7]])"
      ]
     },
     "execution_count": 43,
     "metadata": {},
     "output_type": "execute_result"
    }
   ],
   "source": [
    "np.hstack(([[1],[1],[1]], [[2,3],[4,5],[6,7]]))"
   ]
  },
  {
   "cell_type": "code",
   "execution_count": 44,
   "id": "673a5da3",
   "metadata": {},
   "outputs": [
    {
     "data": {
      "text/plain": [
       "array([1., 1., 1., 1., 1., 1., 1.])"
      ]
     },
     "execution_count": 44,
     "metadata": {},
     "output_type": "execute_result"
    }
   ],
   "source": [
    "Y=np.hstack((np.ones(len(has_milk)), np.zeros(len(hsnt_milk))))\n",
    "Y[:7]"
   ]
  },
  {
   "cell_type": "code",
   "execution_count": 51,
   "id": "39e272e3",
   "metadata": {},
   "outputs": [
    {
     "data": {
      "text/plain": [
       "[17.870648362516704, -104.05043973934188, 27.42606545617355]"
      ]
     },
     "execution_count": 51,
     "metadata": {},
     "output_type": "execute_result"
    }
   ],
   "source": [
    "coef = graddesc(X, Y, m, 0.15, theta)\n",
    "coef"
   ]
  },
  {
   "cell_type": "code",
   "execution_count": 52,
   "id": "60a87c1c",
   "metadata": {},
   "outputs": [
    {
     "data": {
      "image/png": "[encoded data removed]",
      "text/plain": [
       "<Figure size 432x288 with 1 Axes>"
      ]
     },
     "metadata": {
      "needs_background": "light"
     },
     "output_type": "display_data"
    }
   ],
   "source": [
    "x_axes=[data['type(n)'].min()/data['type(n)'].max(), 1]\n",
    "y_axes=[data['legs(n)'].min()/data['legs(n)'].max(), 1]\n",
    "z_axes=[coef[0]+coef[1]*x_axes[i]+coef[2]*y_axes[i] for i in range(2)]\n",
    "plt.plot(x_axes, y_axes)\n",
    "plt.plot(has_milk[:, 0], has_milk[:, 1], 'go', hsnt_milk[:, 0], hsnt_milk[:, 1], 'bx')\n",
    "#In this graph, those who have milk correspond to green circles, \n",
    "#and those who do not have it correspond to a blue crosses\n",
    "plt.xlabel('type')\n",
    "plt.ylabel('number of legs')\n",
    "plt.show()"
   ]
  },
  {
   "cell_type": "code",
   "execution_count": null,
   "id": "c2f71955",
   "metadata": {},
   "outputs": [],
   "source": []
  }
 ],
 "metadata": {
  "kernelspec": {
   "display_name": "Python 3 (ipykernel)",
   "language": "python",
   "name": "python3"
  },
  "language_info": {
   "codemirror_mode": {
    "name": "ipython",
    "version": 3
   },
   "file_extension": ".py",
   "mimetype": "text/x-python",
   "name": "python",
   "nbconvert_exporter": "python",
   "pygments_lexer": "ipython3",
   "version": "3.8.10"
  }
 },
 "nbformat": 4,
 "nbformat_minor": 5
}

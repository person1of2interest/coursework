{
 "cells": [
  {
   "cell_type": "code",
   "execution_count": 1,
   "id": "40b9dac2",
   "metadata": {},
   "outputs": [],
   "source": [
    "import numpy as np\n",
    "import pandas as pd\n",
    "import math"
   ]
  },
  {
   "cell_type": "code",
   "execution_count": 2,
   "id": "251b0945",
   "metadata": {},
   "outputs": [],
   "source": [
    "#reading the .csv file as a dataframe (df)\n",
    "bic=pd.read_csv('nyc-east-river-bicycle-counts.csv')"
   ]
  },
  {
   "cell_type": "code",
   "execution_count": 3,
   "id": "f0c44f48",
   "metadata": {},
   "outputs": [
    {
     "data": {
      "text/html": [
       "<div>\n",
       "<style scoped>\n",
       "    .dataframe tbody tr th:only-of-type {\n",
       "        vertical-align: middle;\n",
       "    }\n",
       "\n",
       "    .dataframe tbody tr th {\n",
       "        vertical-align: top;\n",
       "    }\n",
       "\n",
       "    .dataframe thead th {\n",
       "        text-align: right;\n",
       "    }\n",
       "</style>\n",
       "<table border=\"1\" class=\"dataframe\">\n",
       "  <thead>\n",
       "    <tr style=\"text-align: right;\">\n",
       "      <th></th>\n",
       "      <th>Unnamed: 0</th>\n",
       "      <th>Date</th>\n",
       "      <th>Day</th>\n",
       "      <th>High Temp (°F)</th>\n",
       "      <th>Low Temp (°F)</th>\n",
       "      <th>Precipitation</th>\n",
       "      <th>Brooklyn Bridge</th>\n",
       "      <th>Manhattan Bridge</th>\n",
       "      <th>Williamsburg Bridge</th>\n",
       "      <th>Queensboro Bridge</th>\n",
       "      <th>Total</th>\n",
       "    </tr>\n",
       "  </thead>\n",
       "  <tbody>\n",
       "    <tr>\n",
       "      <th>0</th>\n",
       "      <td>0</td>\n",
       "      <td>2016-04-01 00:00:00</td>\n",
       "      <td>2016-04-01 00:00:00</td>\n",
       "      <td>78.1</td>\n",
       "      <td>66.0</td>\n",
       "      <td>0.01</td>\n",
       "      <td>1704.0</td>\n",
       "      <td>3126</td>\n",
       "      <td>4115.0</td>\n",
       "      <td>2552.0</td>\n",
       "      <td>11497</td>\n",
       "    </tr>\n",
       "    <tr>\n",
       "      <th>1</th>\n",
       "      <td>1</td>\n",
       "      <td>2016-04-02 00:00:00</td>\n",
       "      <td>2016-04-02 00:00:00</td>\n",
       "      <td>55.0</td>\n",
       "      <td>48.9</td>\n",
       "      <td>0.15</td>\n",
       "      <td>827.0</td>\n",
       "      <td>1646</td>\n",
       "      <td>2565.0</td>\n",
       "      <td>1884.0</td>\n",
       "      <td>6922</td>\n",
       "    </tr>\n",
       "    <tr>\n",
       "      <th>2</th>\n",
       "      <td>2</td>\n",
       "      <td>2016-04-03 00:00:00</td>\n",
       "      <td>2016-04-03 00:00:00</td>\n",
       "      <td>39.9</td>\n",
       "      <td>34.0</td>\n",
       "      <td>0.09</td>\n",
       "      <td>526.0</td>\n",
       "      <td>1232</td>\n",
       "      <td>1695.0</td>\n",
       "      <td>1306.0</td>\n",
       "      <td>4759</td>\n",
       "    </tr>\n",
       "    <tr>\n",
       "      <th>3</th>\n",
       "      <td>3</td>\n",
       "      <td>2016-04-04 00:00:00</td>\n",
       "      <td>2016-04-04 00:00:00</td>\n",
       "      <td>44.1</td>\n",
       "      <td>33.1</td>\n",
       "      <td>0.47 (S)</td>\n",
       "      <td>521.0</td>\n",
       "      <td>1067</td>\n",
       "      <td>1440.0</td>\n",
       "      <td>1307.0</td>\n",
       "      <td>4335</td>\n",
       "    </tr>\n",
       "    <tr>\n",
       "      <th>4</th>\n",
       "      <td>4</td>\n",
       "      <td>2016-04-05 00:00:00</td>\n",
       "      <td>2016-04-05 00:00:00</td>\n",
       "      <td>42.1</td>\n",
       "      <td>26.1</td>\n",
       "      <td>0</td>\n",
       "      <td>1416.0</td>\n",
       "      <td>2617</td>\n",
       "      <td>3081.0</td>\n",
       "      <td>2357.0</td>\n",
       "      <td>9471</td>\n",
       "    </tr>\n",
       "  </tbody>\n",
       "</table>\n",
       "</div>"
      ],
      "text/plain": [
       "   Unnamed: 0                 Date                  Day  High Temp (°F)  \\\n",
       "0           0  2016-04-01 00:00:00  2016-04-01 00:00:00            78.1   \n",
       "1           1  2016-04-02 00:00:00  2016-04-02 00:00:00            55.0   \n",
       "2           2  2016-04-03 00:00:00  2016-04-03 00:00:00            39.9   \n",
       "3           3  2016-04-04 00:00:00  2016-04-04 00:00:00            44.1   \n",
       "4           4  2016-04-05 00:00:00  2016-04-05 00:00:00            42.1   \n",
       "\n",
       "   Low Temp (°F) Precipitation  Brooklyn Bridge  Manhattan Bridge  \\\n",
       "0           66.0          0.01           1704.0              3126   \n",
       "1           48.9          0.15            827.0              1646   \n",
       "2           34.0          0.09            526.0              1232   \n",
       "3           33.1      0.47 (S)            521.0              1067   \n",
       "4           26.1             0           1416.0              2617   \n",
       "\n",
       "   Williamsburg Bridge  Queensboro Bridge  Total  \n",
       "0               4115.0             2552.0  11497  \n",
       "1               2565.0             1884.0   6922  \n",
       "2               1695.0             1306.0   4759  \n",
       "3               1440.0             1307.0   4335  \n",
       "4               3081.0             2357.0   9471  "
      ]
     },
     "execution_count": 3,
     "metadata": {},
     "output_type": "execute_result"
    }
   ],
   "source": [
    "#outputing first 5 lines of df\n",
    "bic.head(5)"
   ]
  },
  {
   "cell_type": "code",
   "execution_count": 4,
   "id": "760dc778",
   "metadata": {
    "scrolled": true
   },
   "outputs": [
    {
     "data": {
      "text/plain": [
       "Text(0, 0.5, 'Number of bicycles')"
      ]
     },
     "execution_count": 4,
     "metadata": {},
     "output_type": "execute_result"
    },
    {
     "data": {
      "image/png": "[encoded data removed]",
      "text/plain": [
       "<Figure size 432x288 with 1 Axes>"
      ]
     },
     "metadata": {
      "needs_background": "light"
     },
     "output_type": "display_data"
    }
   ],
   "source": [
    "#plotting the dependence of the number of cyclists \n",
    "#who drove across the Manhattan bridge \n",
    "#on the minimum temperature during the day\n",
    "import matplotlib.pyplot as plt\n",
    "plt.plot(bic['Low Temp (°F)'], bic['Manhattan Bridge'], 'bo')\n",
    "plt.xlabel('Low Temp (°F)')\n",
    "plt.ylabel('Number of bicycles')\n",
    "#the graph shows a positive linear correlation"
   ]
  },
  {
   "cell_type": "markdown",
   "id": "64b31e1b",
   "metadata": {},
   "source": [
    "### We want to build a line that most accurately reflects the revealed dependence"
   ]
  },
  {
   "cell_type": "code",
   "execution_count": 5,
   "id": "76ae596c",
   "metadata": {},
   "outputs": [],
   "source": [
    "#building a list of minimum daytime temperatures \n",
    "#in order to then run the gradient descent algorithm on these values\n",
    "X = np.asarray(bic['Low Temp (°F)'].tolist())"
   ]
  },
  {
   "cell_type": "code",
   "execution_count": 6,
   "id": "993c025c",
   "metadata": {},
   "outputs": [
    {
     "data": {
      "text/plain": [
       "array([66. , 48.9, 34. , 33.1, 26.1])"
      ]
     },
     "execution_count": 6,
     "metadata": {},
     "output_type": "execute_result"
    }
   ],
   "source": [
    "X[:5]"
   ]
  },
  {
   "cell_type": "code",
   "execution_count": 7,
   "id": "00e8fd6e",
   "metadata": {},
   "outputs": [
    {
     "data": {
      "text/plain": [
       "array([3126, 1646, 1232, 1067, 2617])"
      ]
     },
     "execution_count": 7,
     "metadata": {},
     "output_type": "execute_result"
    }
   ],
   "source": [
    "#similarly X\n",
    "Y = np.asarray(bic['Manhattan Bridge'].tolist())\n",
    "Y[:5]"
   ]
  },
  {
   "cell_type": "code",
   "execution_count": 8,
   "id": "c195516b",
   "metadata": {},
   "outputs": [
    {
     "data": {
      "text/plain": [
       "210"
      ]
     },
     "execution_count": 8,
     "metadata": {},
     "output_type": "execute_result"
    }
   ],
   "source": [
    "m = X.shape[0]\n",
    "m"
   ]
  },
  {
   "cell_type": "markdown",
   "id": "e89e6bba",
   "metadata": {},
   "source": [
    "### Hypothesis:\n",
    "### h(X) = a*X + b"
   ]
  },
  {
   "cell_type": "code",
   "execution_count": 9,
   "id": "887e9649",
   "metadata": {},
   "outputs": [
    {
     "data": {
      "text/plain": [
       "86.54970760233917"
      ]
     },
     "execution_count": 9,
     "metadata": {},
     "output_type": "execute_result"
    }
   ],
   "source": [
    "#selecting the starting values \n",
    "#for the gradient descent algorithm - the coefficients of the line\n",
    "a = (Y[1] - Y[0])/(X[1] - X[0])\n",
    "a"
   ]
  },
  {
   "cell_type": "code",
   "execution_count": 10,
   "id": "01aa0a37",
   "metadata": {
    "scrolled": true
   },
   "outputs": [
    {
     "data": {
      "text/plain": [
       "-2586.2807017543855"
      ]
     },
     "execution_count": 10,
     "metadata": {},
     "output_type": "execute_result"
    }
   ],
   "source": [
    "b = Y[0] - a*X[0]\n",
    "b"
   ]
  },
  {
   "cell_type": "code",
   "execution_count": 11,
   "id": "3693ef86",
   "metadata": {},
   "outputs": [],
   "source": [
    "#The gradient descent function itself. \n",
    "#We start with the values of the coefficients a and b described above, \n",
    "#and gradually changing these values, we approach those \n",
    "#at which the loss function will be at a local minimum \n",
    "#(that is, our line will be the least different from the desired one).\n",
    "\n",
    "def graddesc(X, Y, m, alpha, a, b):\n",
    "    \n",
    "    sumb_list = a*X + b - Y\n",
    "    sumb = np.sum(sumb_list)\n",
    "    suma_list = (a*X + b - Y)*X \n",
    "    suma = np.sum(suma_list)\n",
    "    \n",
    "    if abs((alpha/m)*suma)>0.05 or abs((alpha/m)*sumb)>0.05:\n",
    "        a -= (alpha/m)*suma\n",
    "        b -= (alpha/m)*sumb\n",
    "        return graddesc(X, Y, m, alpha, a, b)\n",
    "    \n",
    "    else:\n",
    "        return [a, b]"
   ]
  },
  {
   "cell_type": "code",
   "execution_count": 12,
   "id": "4ce74d32",
   "metadata": {},
   "outputs": [
    {
     "name": "stdout",
     "output_type": "stream",
     "text": [
      "[140.42979234193703, -2584.915851479138]\n"
     ]
    }
   ],
   "source": [
    "#getting the final coefficients of the line\n",
    "coef = graddesc(X, Y, m, 0.00015, a, b)\n",
    "print(coef)"
   ]
  },
  {
   "cell_type": "markdown",
   "id": "433754b9",
   "metadata": {},
   "source": [
    "### What does this line look like:"
   ]
  },
  {
   "cell_type": "code",
   "execution_count": 13,
   "id": "0c3d9b85",
   "metadata": {},
   "outputs": [],
   "source": [
    "#two points that will define our straight line\n",
    "new_x = [X.min(), X.max()]"
   ]
  },
  {
   "cell_type": "code",
   "execution_count": 14,
   "id": "3dff9d15",
   "metadata": {},
   "outputs": [
    {
     "data": {
      "text/plain": [
       "[<matplotlib.lines.Line2D at 0x7ff8389e2cd0>]"
      ]
     },
     "execution_count": 14,
     "metadata": {},
     "output_type": "execute_result"
    },
    {
     "data": {
      "image/png": "[encoded data removed]",
      "text/plain": [
       "<Figure size 432x288 with 1 Axes>"
      ]
     },
     "metadata": {
      "needs_background": "light"
     },
     "output_type": "display_data"
    }
   ],
   "source": [
    "plt.plot(bic['Low Temp (°F)'], bic['Manhattan Bridge'], 'bo')\n",
    "plt.xlabel('Low Temp (°F)')\n",
    "plt.ylabel('Number of bicycles')\n",
    "#adding a straight line to the same graph\n",
    "plt.plot(new_x, [coef[0]*j + coef[1] for j in new_x])"
   ]
  },
  {
   "cell_type": "code",
   "execution_count": null,
   "id": "59a226eb",
   "metadata": {},
   "outputs": [],
   "source": []
  }
 ],
 "metadata": {
  "kernelspec": {
   "display_name": "Python 3 (ipykernel)",
   "language": "python",
   "name": "python3"
  },
  "language_info": {
   "codemirror_mode": {
    "name": "ipython",
    "version": 3
   },
   "file_extension": ".py",
   "mimetype": "text/x-python",
   "name": "python",
   "nbconvert_exporter": "python",
   "pygments_lexer": "ipython3",
   "version": "3.8.10"
  }
 },
 "nbformat": 4,
 "nbformat_minor": 5
}
